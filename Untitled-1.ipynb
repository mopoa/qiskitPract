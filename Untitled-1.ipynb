{
 "cells": [
  {
   "cell_type": "code",
   "execution_count": 24,
   "metadata": {},
   "outputs": [
    {
     "name": "stdout",
     "output_type": "stream",
     "text": [
      " SamplerResult(quasi_dists=[{0: np.float64(0.5), 7: np.float64(0.5)}], metadata=[{}])\n"
     ]
    },
    {
     "name": "stderr",
     "output_type": "stream",
     "text": [
      "/tmp/ipykernel_52823/571363543.py:16: DeprecationWarning: The class ``qiskit.primitives.sampler.Sampler`` is deprecated as of qiskit 1.2. It will be removed no earlier than 3 months after the release date. All implementations of the `BaseSamplerV1` interface have been deprecated in favor of their V2 counterparts. The V2 alternative for the `Sampler` class is `StatevectorSampler`.\n",
      "  sampler= Sampler()\n"
     ]
    }
   ],
   "source": [
    "import numpy as np\n",
    "from qiskit import QuantumCircuit,QuantumRegister\n",
    "from qiskit.primitives import Sampler\n",
    "# from qiskit_ibm_runtime import SamplerV2 as Sampler, Batch\n",
    "\n",
    "qreg=QuantumRegister(3,name=\"q\")\n",
    "qc = QuantumCircuit(qreg)\n",
    "# qc= QuantumCircuit(3)\n",
    "\n",
    "qc.h(0)\n",
    "# qc.h(1)\n",
    "qc.p(np.pi/2,0)\n",
    "qc.cx(0,1)\n",
    "qc.cx(0,2)\n",
    "measure=qc.measure_all(inplace=False)\n",
    "sampler= Sampler()\n",
    "job = sampler.run([measure])\n",
    "result = job.result()\n",
    "print(f\" {result}\")\n",
    "\n"
   ]
  }
 ],
 "metadata": {
  "kernelspec": {
   "display_name": "qisv",
   "language": "python",
   "name": "python3"
  },
  "language_info": {
   "codemirror_mode": {
    "name": "ipython",
    "version": 3
   },
   "file_extension": ".py",
   "mimetype": "text/x-python",
   "name": "python",
   "nbconvert_exporter": "python",
   "pygments_lexer": "ipython3",
   "version": "3.12.3"
  }
 },
 "nbformat": 4,
 "nbformat_minor": 2
}
